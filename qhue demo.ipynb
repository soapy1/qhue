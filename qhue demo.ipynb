{
 "cells": [
  {
   "cell_type": "markdown",
   "metadata": {},
   "source": [
    "# Qhue experiments\n",
    "\n",
    "Experiments with the [Qhue](https://github.com/quentinsf/qhue) python module.\n",
    "\n",
    "If you haven't already, then `pip install qhue` before starting.  \n",
    "\n",
    "Some of these examples may assume you have a recent bridge with recent software.\n",
    "\n",
    "*If you're viewing this with my sample output, I've truncated some of it for readability. I have a lot of lights!*"
   ]
  },
  {
   "cell_type": "markdown",
   "metadata": {},
   "source": [
    "## Basics "
   ]
  },
  {
   "cell_type": "code",
   "execution_count": 15,
   "metadata": {},
   "outputs": [],
   "source": [
    "# Put in the IP address of your Hue bridge here\n",
    "BRIDGE_IP='192.168.1.185'\n",
    "username='BykNjzzgLxSgbHS5AfCMkSiLFrAVG4mHxxm1yFTp'\n",
    "\n",
    "from qhue import Bridge, QhueException, create_new_username\n",
    "import time\n",
    "from random import randint"
   ]
  },
  {
   "cell_type": "code",
   "execution_count": 3,
   "metadata": {},
   "outputs": [
    {
     "name": "stdout",
     "output_type": "stream",
     "text": [
      "Table            1\n",
      "Bar              2\n",
      "Hue color lamp 3 3\n",
      "Hue color lamp 4 4\n"
     ]
    }
   ],
   "source": [
    "bridge = Bridge(BRIDGE_IP, username)\n",
    "lights = bridge.lights()\n",
    "for num, info in lights.items():\n",
    "    print(\"{:16} {}\".format(info['name'], num))"
   ]
  },
  {
   "cell_type": "markdown",
   "metadata": {},
   "source": [
    "Let's get the numbers and names of the lights:"
   ]
  },
  {
   "cell_type": "code",
   "execution_count": 5,
   "metadata": {},
   "outputs": [
    {
     "data": {
      "text/plain": [
       "[{'success': {'/lights/1/state/on': True}}]"
      ]
     },
     "execution_count": 5,
     "metadata": {},
     "output_type": "execute_result"
    }
   ],
   "source": [
    "bridge.lights[1].state(on=True)"
   ]
  },
  {
   "cell_type": "code",
   "execution_count": 37,
   "metadata": {},
   "outputs": [],
   "source": [
    "seq = [\n",
    "    { 'light': 1, 'state': True, 'hue': randint(200, 65535), 'br': randint(0, 255) },\n",
    "    { 'light': 2, 'state': True, 'hue': randint(4381, 65535), 'br': randint(0, 255) },\n",
    "    { 'light': 1, 'state': True, 'hue': randint(9192, 65535), 'br': randint(0, 255) },\n",
    "    { 'light': 4, 'state': True, 'hue': randint(7141, 65535), 'br': randint(0, 255) },\n",
    "    { 'light': 2, 'state': True, 'hue': randint(0, 65535), 'br': randint(0, 255) },\n",
    "    { 'light': 4, 'state': True, 'hue': randint(4000, 65535), 'br': randint(0, 255) },\n",
    "]\n"
   ]
  },
  {
   "cell_type": "code",
   "execution_count": 39,
   "metadata": {},
   "outputs": [],
   "source": [
    "for s in seq:\n",
    "    bridge.lights[s['light']].state(on=s['state'], hue=s['hue'], bri=255)\n",
    "    time.sleep(1)"
   ]
  },
  {
   "cell_type": "code",
   "execution_count": 41,
   "metadata": {},
   "outputs": [
    {
     "ename": "KeyboardInterrupt",
     "evalue": "",
     "output_type": "error",
     "traceback": [
      "\u001b[0;31m---------------------------------------------------------------------------\u001b[0m",
      "\u001b[0;31mKeyboardInterrupt\u001b[0m                         Traceback (most recent call last)",
      "\u001b[0;32m<ipython-input-41-25e2460d4288>\u001b[0m in \u001b[0;36m<module>\u001b[0;34m()\u001b[0m\n\u001b[1;32m      1\u001b[0m \u001b[0;32mwhile\u001b[0m \u001b[0;32mTrue\u001b[0m\u001b[0;34m:\u001b[0m\u001b[0;34m\u001b[0m\u001b[0m\n\u001b[1;32m      2\u001b[0m     \u001b[0mbridge\u001b[0m\u001b[0;34m.\u001b[0m\u001b[0mlights\u001b[0m\u001b[0;34m[\u001b[0m\u001b[0mrandint\u001b[0m\u001b[0;34m(\u001b[0m\u001b[0;36m1\u001b[0m\u001b[0;34m,\u001b[0m\u001b[0;36m4\u001b[0m\u001b[0;34m)\u001b[0m\u001b[0;34m]\u001b[0m\u001b[0;34m.\u001b[0m\u001b[0mstate\u001b[0m\u001b[0;34m(\u001b[0m\u001b[0mon\u001b[0m\u001b[0;34m=\u001b[0m\u001b[0;32mTrue\u001b[0m\u001b[0;34m,\u001b[0m \u001b[0mhue\u001b[0m\u001b[0;34m=\u001b[0m\u001b[0mrandint\u001b[0m\u001b[0;34m(\u001b[0m\u001b[0;36m200\u001b[0m\u001b[0;34m,\u001b[0m \u001b[0;36m65535\u001b[0m\u001b[0;34m)\u001b[0m\u001b[0;34m,\u001b[0m \u001b[0mbri\u001b[0m\u001b[0;34m=\u001b[0m\u001b[0;36m255\u001b[0m\u001b[0;34m)\u001b[0m\u001b[0;34m\u001b[0m\u001b[0m\n\u001b[0;32m----> 3\u001b[0;31m     \u001b[0mtime\u001b[0m\u001b[0;34m.\u001b[0m\u001b[0msleep\u001b[0m\u001b[0;34m(\u001b[0m\u001b[0;36m1\u001b[0m\u001b[0;34m)\u001b[0m\u001b[0;34m\u001b[0m\u001b[0m\n\u001b[0m",
      "\u001b[0;31mKeyboardInterrupt\u001b[0m: "
     ]
    }
   ],
   "source": [
    "while True:\n",
    "    bridge.lights[randint(1,4)].state(on=True, hue=randint(200, 65535), bri=255)\n",
    "    time.sleep(1)"
   ]
  },
  {
   "cell_type": "markdown",
   "metadata": {},
   "source": [
    "Let's try interactively changing a light.  You could make this a lot more sophisticated:"
   ]
  },
  {
   "cell_type": "code",
   "execution_count": 16,
   "metadata": {},
   "outputs": [
    {
     "ename": "TraitError",
     "evalue": "Invalid selection: value not found",
     "output_type": "error",
     "traceback": [
      "\u001b[0;31m---------------------------------------------------------------------------\u001b[0m",
      "\u001b[0;31mStopIteration\u001b[0m                             Traceback (most recent call last)",
      "\u001b[0;32m~/miniconda3/lib/python3.6/site-packages/ipywidgets/widgets/widget_selection.py\u001b[0m in \u001b[0;36mfindvalue\u001b[0;34m(array, value, compare)\u001b[0m\n\u001b[1;32m    136\u001b[0m     \u001b[0;32mtry\u001b[0m\u001b[0;34m:\u001b[0m\u001b[0;34m\u001b[0m\u001b[0m\n\u001b[0;32m--> 137\u001b[0;31m         \u001b[0;32mreturn\u001b[0m \u001b[0mnext\u001b[0m\u001b[0;34m(\u001b[0m\u001b[0mx\u001b[0m \u001b[0;32mfor\u001b[0m \u001b[0mx\u001b[0m \u001b[0;32min\u001b[0m \u001b[0marray\u001b[0m \u001b[0;32mif\u001b[0m \u001b[0mcompare\u001b[0m\u001b[0;34m(\u001b[0m\u001b[0mx\u001b[0m\u001b[0;34m,\u001b[0m \u001b[0mvalue\u001b[0m\u001b[0;34m)\u001b[0m\u001b[0;34m)\u001b[0m\u001b[0;34m\u001b[0m\u001b[0m\n\u001b[0m\u001b[1;32m    138\u001b[0m     \u001b[0;32mexcept\u001b[0m \u001b[0mStopIteration\u001b[0m\u001b[0;34m:\u001b[0m\u001b[0;34m\u001b[0m\u001b[0m\n",
      "\u001b[0;31mStopIteration\u001b[0m: ",
      "\nDuring handling of the above exception, another exception occurred:\n",
      "\u001b[0;31mValueError\u001b[0m                                Traceback (most recent call last)",
      "\u001b[0;32m~/miniconda3/lib/python3.6/site-packages/ipywidgets/widgets/widget_selection.py\u001b[0m in \u001b[0;36m_validate_value\u001b[0;34m(self, proposal)\u001b[0m\n\u001b[1;32m    231\u001b[0m         \u001b[0;32mtry\u001b[0m\u001b[0;34m:\u001b[0m\u001b[0;34m\u001b[0m\u001b[0m\n\u001b[0;32m--> 232\u001b[0;31m             \u001b[0;32mreturn\u001b[0m \u001b[0mfindvalue\u001b[0m\u001b[0;34m(\u001b[0m\u001b[0mself\u001b[0m\u001b[0;34m.\u001b[0m\u001b[0m_options_values\u001b[0m\u001b[0;34m,\u001b[0m \u001b[0mvalue\u001b[0m\u001b[0;34m,\u001b[0m \u001b[0mself\u001b[0m\u001b[0;34m.\u001b[0m\u001b[0mequals\u001b[0m\u001b[0;34m)\u001b[0m \u001b[0;32mif\u001b[0m \u001b[0mvalue\u001b[0m \u001b[0;32mis\u001b[0m \u001b[0;32mnot\u001b[0m \u001b[0;32mNone\u001b[0m \u001b[0;32melse\u001b[0m \u001b[0;32mNone\u001b[0m\u001b[0;34m\u001b[0m\u001b[0m\n\u001b[0m\u001b[1;32m    233\u001b[0m         \u001b[0;32mexcept\u001b[0m \u001b[0mValueError\u001b[0m\u001b[0;34m:\u001b[0m\u001b[0;34m\u001b[0m\u001b[0m\n",
      "\u001b[0;32m~/miniconda3/lib/python3.6/site-packages/ipywidgets/widgets/widget_selection.py\u001b[0m in \u001b[0;36mfindvalue\u001b[0;34m(array, value, compare)\u001b[0m\n\u001b[1;32m    138\u001b[0m     \u001b[0;32mexcept\u001b[0m \u001b[0mStopIteration\u001b[0m\u001b[0;34m:\u001b[0m\u001b[0;34m\u001b[0m\u001b[0m\n\u001b[0;32m--> 139\u001b[0;31m         \u001b[0;32mraise\u001b[0m \u001b[0mValueError\u001b[0m\u001b[0;34m(\u001b[0m\u001b[0;34m'%r not in array'\u001b[0m\u001b[0;34m%\u001b[0m\u001b[0mvalue\u001b[0m\u001b[0;34m)\u001b[0m\u001b[0;34m\u001b[0m\u001b[0m\n\u001b[0m\u001b[1;32m    140\u001b[0m \u001b[0;34m\u001b[0m\u001b[0m\n",
      "\u001b[0;31mValueError\u001b[0m: '14' not in array",
      "\nDuring handling of the above exception, another exception occurred:\n",
      "\u001b[0;31mTraitError\u001b[0m                                Traceback (most recent call last)",
      "\u001b[0;32m<ipython-input-16-60aac98bf960>\u001b[0m in \u001b[0;36m<module>\u001b[0;34m()\u001b[0m\n\u001b[1;32m     11\u001b[0m                             \u001b[0moptions\u001b[0m\u001b[0;34m=\u001b[0m\u001b[0;34m{\u001b[0m \u001b[0mlights\u001b[0m\u001b[0;34m[\u001b[0m\u001b[0mi\u001b[0m\u001b[0;34m]\u001b[0m\u001b[0;34m[\u001b[0m\u001b[0;34m'name'\u001b[0m\u001b[0;34m]\u001b[0m\u001b[0;34m:\u001b[0m\u001b[0mi\u001b[0m \u001b[0;32mfor\u001b[0m \u001b[0mi\u001b[0m \u001b[0;32min\u001b[0m \u001b[0mlights\u001b[0m \u001b[0;34m}\u001b[0m\u001b[0;34m,\u001b[0m\u001b[0;34m\u001b[0m\u001b[0m\n\u001b[1;32m     12\u001b[0m                             \u001b[0mvalue\u001b[0m\u001b[0;34m=\u001b[0m\u001b[0;34m'14'\u001b[0m\u001b[0;34m,\u001b[0m\u001b[0;34m\u001b[0m\u001b[0m\n\u001b[0;32m---> 13\u001b[0;31m                             \u001b[0mdescription\u001b[0m\u001b[0;34m=\u001b[0m\u001b[0;34m'Light:'\u001b[0m\u001b[0;34m,\u001b[0m\u001b[0;34m\u001b[0m\u001b[0m\n\u001b[0m\u001b[1;32m     14\u001b[0m                         ),\n\u001b[1;32m     15\u001b[0m                       \u001b[0mon\u001b[0m \u001b[0;34m=\u001b[0m \u001b[0mwidgets\u001b[0m\u001b[0;34m.\u001b[0m\u001b[0mCheckbox\u001b[0m\u001b[0;34m(\u001b[0m\u001b[0mvalue\u001b[0m\u001b[0;34m=\u001b[0m\u001b[0;32mTrue\u001b[0m\u001b[0;34m,\u001b[0m \u001b[0mdescription\u001b[0m\u001b[0;34m=\u001b[0m\u001b[0;34m'On/off'\u001b[0m\u001b[0;34m)\u001b[0m\u001b[0;34m,\u001b[0m\u001b[0;34m\u001b[0m\u001b[0m\n",
      "\u001b[0;32m~/miniconda3/lib/python3.6/site-packages/ipywidgets/widgets/widget_selection.py\u001b[0m in \u001b[0;36m__init__\u001b[0;34m(self, *args, **kwargs)\u001b[0m\n\u001b[1;32m    188\u001b[0m             \u001b[0mkwargs\u001b[0m\u001b[0;34m[\u001b[0m\u001b[0;34m'label'\u001b[0m\u001b[0;34m]\u001b[0m\u001b[0;34m,\u001b[0m \u001b[0mkwargs\u001b[0m\u001b[0;34m[\u001b[0m\u001b[0;34m'value'\u001b[0m\u001b[0;34m]\u001b[0m \u001b[0;34m=\u001b[0m \u001b[0moptions\u001b[0m\u001b[0;34m[\u001b[0m\u001b[0;36m0\u001b[0m\u001b[0;34m]\u001b[0m \u001b[0;32mif\u001b[0m \u001b[0mnonempty\u001b[0m \u001b[0;32melse\u001b[0m \u001b[0;34m(\u001b[0m\u001b[0;32mNone\u001b[0m\u001b[0;34m,\u001b[0m \u001b[0;32mNone\u001b[0m\u001b[0;34m)\u001b[0m\u001b[0;34m\u001b[0m\u001b[0m\n\u001b[1;32m    189\u001b[0m \u001b[0;34m\u001b[0m\u001b[0m\n\u001b[0;32m--> 190\u001b[0;31m         \u001b[0msuper\u001b[0m\u001b[0;34m(\u001b[0m\u001b[0m_Selection\u001b[0m\u001b[0;34m,\u001b[0m \u001b[0mself\u001b[0m\u001b[0;34m)\u001b[0m\u001b[0;34m.\u001b[0m\u001b[0m__init__\u001b[0m\u001b[0;34m(\u001b[0m\u001b[0;34m*\u001b[0m\u001b[0margs\u001b[0m\u001b[0;34m,\u001b[0m \u001b[0;34m**\u001b[0m\u001b[0mkwargs\u001b[0m\u001b[0;34m)\u001b[0m\u001b[0;34m\u001b[0m\u001b[0m\n\u001b[0m\u001b[1;32m    191\u001b[0m         \u001b[0mself\u001b[0m\u001b[0;34m.\u001b[0m\u001b[0m_initializing_traits_\u001b[0m \u001b[0;34m=\u001b[0m \u001b[0;32mFalse\u001b[0m\u001b[0;34m\u001b[0m\u001b[0m\n\u001b[1;32m    192\u001b[0m \u001b[0;34m\u001b[0m\u001b[0m\n",
      "\u001b[0;32m~/miniconda3/lib/python3.6/site-packages/ipywidgets/widgets/widget.py\u001b[0m in \u001b[0;36m__init__\u001b[0;34m(self, **kwargs)\u001b[0m\n\u001b[1;32m    407\u001b[0m         \u001b[0;34m\"\"\"Public constructor\"\"\"\u001b[0m\u001b[0;34m\u001b[0m\u001b[0m\n\u001b[1;32m    408\u001b[0m         \u001b[0mself\u001b[0m\u001b[0;34m.\u001b[0m\u001b[0m_model_id\u001b[0m \u001b[0;34m=\u001b[0m \u001b[0mkwargs\u001b[0m\u001b[0;34m.\u001b[0m\u001b[0mpop\u001b[0m\u001b[0;34m(\u001b[0m\u001b[0;34m'model_id'\u001b[0m\u001b[0;34m,\u001b[0m \u001b[0;32mNone\u001b[0m\u001b[0;34m)\u001b[0m\u001b[0;34m\u001b[0m\u001b[0m\n\u001b[0;32m--> 409\u001b[0;31m         \u001b[0msuper\u001b[0m\u001b[0;34m(\u001b[0m\u001b[0mWidget\u001b[0m\u001b[0;34m,\u001b[0m \u001b[0mself\u001b[0m\u001b[0;34m)\u001b[0m\u001b[0;34m.\u001b[0m\u001b[0m__init__\u001b[0m\u001b[0;34m(\u001b[0m\u001b[0;34m**\u001b[0m\u001b[0mkwargs\u001b[0m\u001b[0;34m)\u001b[0m\u001b[0;34m\u001b[0m\u001b[0m\n\u001b[0m\u001b[1;32m    410\u001b[0m \u001b[0;34m\u001b[0m\u001b[0m\n\u001b[1;32m    411\u001b[0m         \u001b[0mWidget\u001b[0m\u001b[0;34m.\u001b[0m\u001b[0m_call_widget_constructed\u001b[0m\u001b[0;34m(\u001b[0m\u001b[0mself\u001b[0m\u001b[0;34m)\u001b[0m\u001b[0;34m\u001b[0m\u001b[0m\n",
      "\u001b[0;32m~/miniconda3/lib/python3.6/site-packages/traitlets/traitlets.py\u001b[0m in \u001b[0;36m__init__\u001b[0;34m(self, *args, **kwargs)\u001b[0m\n\u001b[1;32m    998\u001b[0m                 \u001b[0;32melse\u001b[0m\u001b[0;34m:\u001b[0m\u001b[0;34m\u001b[0m\u001b[0m\n\u001b[1;32m    999\u001b[0m                     \u001b[0;31m# passthrough args that don't set traits to super\u001b[0m\u001b[0;34m\u001b[0m\u001b[0;34m\u001b[0m\u001b[0m\n\u001b[0;32m-> 1000\u001b[0;31m                     \u001b[0msuper_kwargs\u001b[0m\u001b[0;34m[\u001b[0m\u001b[0mkey\u001b[0m\u001b[0;34m]\u001b[0m \u001b[0;34m=\u001b[0m \u001b[0mvalue\u001b[0m\u001b[0;34m\u001b[0m\u001b[0m\n\u001b[0m\u001b[1;32m   1001\u001b[0m         \u001b[0;32mtry\u001b[0m\u001b[0;34m:\u001b[0m\u001b[0;34m\u001b[0m\u001b[0m\n\u001b[1;32m   1002\u001b[0m             \u001b[0msuper\u001b[0m\u001b[0;34m(\u001b[0m\u001b[0mHasTraits\u001b[0m\u001b[0;34m,\u001b[0m \u001b[0mself\u001b[0m\u001b[0;34m)\u001b[0m\u001b[0;34m.\u001b[0m\u001b[0m__init__\u001b[0m\u001b[0;34m(\u001b[0m\u001b[0;34m*\u001b[0m\u001b[0msuper_args\u001b[0m\u001b[0;34m,\u001b[0m \u001b[0;34m**\u001b[0m\u001b[0msuper_kwargs\u001b[0m\u001b[0;34m)\u001b[0m\u001b[0;34m\u001b[0m\u001b[0m\n",
      "\u001b[0;32m~/miniconda3/lib/python3.6/contextlib.py\u001b[0m in \u001b[0;36m__exit__\u001b[0;34m(self, type, value, traceback)\u001b[0m\n\u001b[1;32m     86\u001b[0m         \u001b[0;32mif\u001b[0m \u001b[0mtype\u001b[0m \u001b[0;32mis\u001b[0m \u001b[0;32mNone\u001b[0m\u001b[0;34m:\u001b[0m\u001b[0;34m\u001b[0m\u001b[0m\n\u001b[1;32m     87\u001b[0m             \u001b[0;32mtry\u001b[0m\u001b[0;34m:\u001b[0m\u001b[0;34m\u001b[0m\u001b[0m\n\u001b[0;32m---> 88\u001b[0;31m                 \u001b[0mnext\u001b[0m\u001b[0;34m(\u001b[0m\u001b[0mself\u001b[0m\u001b[0;34m.\u001b[0m\u001b[0mgen\u001b[0m\u001b[0;34m)\u001b[0m\u001b[0;34m\u001b[0m\u001b[0m\n\u001b[0m\u001b[1;32m     89\u001b[0m             \u001b[0;32mexcept\u001b[0m \u001b[0mStopIteration\u001b[0m\u001b[0;34m:\u001b[0m\u001b[0;34m\u001b[0m\u001b[0m\n\u001b[1;32m     90\u001b[0m                 \u001b[0;32mreturn\u001b[0m \u001b[0;32mFalse\u001b[0m\u001b[0;34m\u001b[0m\u001b[0m\n",
      "\u001b[0;32m~/miniconda3/lib/python3.6/site-packages/traitlets/traitlets.py\u001b[0m in \u001b[0;36mhold_trait_notifications\u001b[0;34m(self)\u001b[0m\n\u001b[1;32m   1120\u001b[0m                                 \u001b[0mself\u001b[0m\u001b[0;34m.\u001b[0m\u001b[0m_trait_values\u001b[0m\u001b[0;34m.\u001b[0m\u001b[0mpop\u001b[0m\u001b[0;34m(\u001b[0m\u001b[0mname\u001b[0m\u001b[0;34m)\u001b[0m\u001b[0;34m\u001b[0m\u001b[0m\n\u001b[1;32m   1121\u001b[0m                 \u001b[0mcache\u001b[0m \u001b[0;34m=\u001b[0m \u001b[0;34m{\u001b[0m\u001b[0;34m}\u001b[0m\u001b[0;34m\u001b[0m\u001b[0m\n\u001b[0;32m-> 1122\u001b[0;31m                 \u001b[0;32mraise\u001b[0m \u001b[0me\u001b[0m\u001b[0;34m\u001b[0m\u001b[0m\n\u001b[0m\u001b[1;32m   1123\u001b[0m             \u001b[0;32mfinally\u001b[0m\u001b[0;34m:\u001b[0m\u001b[0;34m\u001b[0m\u001b[0m\n\u001b[1;32m   1124\u001b[0m                 \u001b[0mself\u001b[0m\u001b[0;34m.\u001b[0m\u001b[0m_cross_validation_lock\u001b[0m \u001b[0;34m=\u001b[0m \u001b[0;32mFalse\u001b[0m\u001b[0;34m\u001b[0m\u001b[0m\n",
      "\u001b[0;32m~/miniconda3/lib/python3.6/site-packages/traitlets/traitlets.py\u001b[0m in \u001b[0;36mhold_trait_notifications\u001b[0;34m(self)\u001b[0m\n\u001b[1;32m   1106\u001b[0m                 \u001b[0;32mfor\u001b[0m \u001b[0mname\u001b[0m \u001b[0;32min\u001b[0m \u001b[0mlist\u001b[0m\u001b[0;34m(\u001b[0m\u001b[0mcache\u001b[0m\u001b[0;34m.\u001b[0m\u001b[0mkeys\u001b[0m\u001b[0;34m(\u001b[0m\u001b[0;34m)\u001b[0m\u001b[0;34m)\u001b[0m\u001b[0;34m:\u001b[0m\u001b[0;34m\u001b[0m\u001b[0m\n\u001b[1;32m   1107\u001b[0m                     \u001b[0mtrait\u001b[0m \u001b[0;34m=\u001b[0m \u001b[0mgetattr\u001b[0m\u001b[0;34m(\u001b[0m\u001b[0mself\u001b[0m\u001b[0;34m.\u001b[0m\u001b[0m__class__\u001b[0m\u001b[0;34m,\u001b[0m \u001b[0mname\u001b[0m\u001b[0;34m)\u001b[0m\u001b[0;34m\u001b[0m\u001b[0m\n\u001b[0;32m-> 1108\u001b[0;31m                     \u001b[0mvalue\u001b[0m \u001b[0;34m=\u001b[0m \u001b[0mtrait\u001b[0m\u001b[0;34m.\u001b[0m\u001b[0m_cross_validate\u001b[0m\u001b[0;34m(\u001b[0m\u001b[0mself\u001b[0m\u001b[0;34m,\u001b[0m \u001b[0mgetattr\u001b[0m\u001b[0;34m(\u001b[0m\u001b[0mself\u001b[0m\u001b[0;34m,\u001b[0m \u001b[0mname\u001b[0m\u001b[0;34m)\u001b[0m\u001b[0;34m)\u001b[0m\u001b[0;34m\u001b[0m\u001b[0m\n\u001b[0m\u001b[1;32m   1109\u001b[0m                     \u001b[0mself\u001b[0m\u001b[0;34m.\u001b[0m\u001b[0mset_trait\u001b[0m\u001b[0;34m(\u001b[0m\u001b[0mname\u001b[0m\u001b[0;34m,\u001b[0m \u001b[0mvalue\u001b[0m\u001b[0;34m)\u001b[0m\u001b[0;34m\u001b[0m\u001b[0m\n\u001b[1;32m   1110\u001b[0m             \u001b[0;32mexcept\u001b[0m \u001b[0mTraitError\u001b[0m \u001b[0;32mas\u001b[0m \u001b[0me\u001b[0m\u001b[0;34m:\u001b[0m\u001b[0;34m\u001b[0m\u001b[0m\n",
      "\u001b[0;32m~/miniconda3/lib/python3.6/site-packages/traitlets/traitlets.py\u001b[0m in \u001b[0;36m_cross_validate\u001b[0;34m(self, obj, value)\u001b[0m\n\u001b[1;32m    597\u001b[0m         \u001b[0;32mif\u001b[0m \u001b[0mself\u001b[0m\u001b[0;34m.\u001b[0m\u001b[0mname\u001b[0m \u001b[0;32min\u001b[0m \u001b[0mobj\u001b[0m\u001b[0;34m.\u001b[0m\u001b[0m_trait_validators\u001b[0m\u001b[0;34m:\u001b[0m\u001b[0;34m\u001b[0m\u001b[0m\n\u001b[1;32m    598\u001b[0m             \u001b[0mproposal\u001b[0m \u001b[0;34m=\u001b[0m \u001b[0mBunch\u001b[0m\u001b[0;34m(\u001b[0m\u001b[0;34m{\u001b[0m\u001b[0;34m'trait'\u001b[0m\u001b[0;34m:\u001b[0m \u001b[0mself\u001b[0m\u001b[0;34m,\u001b[0m \u001b[0;34m'value'\u001b[0m\u001b[0;34m:\u001b[0m \u001b[0mvalue\u001b[0m\u001b[0;34m,\u001b[0m \u001b[0;34m'owner'\u001b[0m\u001b[0;34m:\u001b[0m \u001b[0mobj\u001b[0m\u001b[0;34m}\u001b[0m\u001b[0;34m)\u001b[0m\u001b[0;34m\u001b[0m\u001b[0m\n\u001b[0;32m--> 599\u001b[0;31m             \u001b[0mvalue\u001b[0m \u001b[0;34m=\u001b[0m \u001b[0mobj\u001b[0m\u001b[0;34m.\u001b[0m\u001b[0m_trait_validators\u001b[0m\u001b[0;34m[\u001b[0m\u001b[0mself\u001b[0m\u001b[0;34m.\u001b[0m\u001b[0mname\u001b[0m\u001b[0;34m]\u001b[0m\u001b[0;34m(\u001b[0m\u001b[0mobj\u001b[0m\u001b[0;34m,\u001b[0m \u001b[0mproposal\u001b[0m\u001b[0;34m)\u001b[0m\u001b[0;34m\u001b[0m\u001b[0m\n\u001b[0m\u001b[1;32m    600\u001b[0m         \u001b[0;32melif\u001b[0m \u001b[0mhasattr\u001b[0m\u001b[0;34m(\u001b[0m\u001b[0mobj\u001b[0m\u001b[0;34m,\u001b[0m \u001b[0;34m'_%s_validate'\u001b[0m \u001b[0;34m%\u001b[0m \u001b[0mself\u001b[0m\u001b[0;34m.\u001b[0m\u001b[0mname\u001b[0m\u001b[0;34m)\u001b[0m\u001b[0;34m:\u001b[0m\u001b[0;34m\u001b[0m\u001b[0m\n\u001b[1;32m    601\u001b[0m             \u001b[0mmeth_name\u001b[0m \u001b[0;34m=\u001b[0m \u001b[0;34m'_%s_validate'\u001b[0m \u001b[0;34m%\u001b[0m \u001b[0mself\u001b[0m\u001b[0;34m.\u001b[0m\u001b[0mname\u001b[0m\u001b[0;34m\u001b[0m\u001b[0m\n",
      "\u001b[0;32m~/miniconda3/lib/python3.6/site-packages/traitlets/traitlets.py\u001b[0m in \u001b[0;36m__call__\u001b[0;34m(self, *args, **kwargs)\u001b[0m\n\u001b[1;32m    905\u001b[0m         \u001b[0;34m\"\"\"Pass `*args` and `**kwargs` to the handler's function if it exists.\"\"\"\u001b[0m\u001b[0;34m\u001b[0m\u001b[0m\n\u001b[1;32m    906\u001b[0m         \u001b[0;32mif\u001b[0m \u001b[0mhasattr\u001b[0m\u001b[0;34m(\u001b[0m\u001b[0mself\u001b[0m\u001b[0;34m,\u001b[0m \u001b[0;34m'func'\u001b[0m\u001b[0;34m)\u001b[0m\u001b[0;34m:\u001b[0m\u001b[0;34m\u001b[0m\u001b[0m\n\u001b[0;32m--> 907\u001b[0;31m             \u001b[0;32mreturn\u001b[0m \u001b[0mself\u001b[0m\u001b[0;34m.\u001b[0m\u001b[0mfunc\u001b[0m\u001b[0;34m(\u001b[0m\u001b[0;34m*\u001b[0m\u001b[0margs\u001b[0m\u001b[0;34m,\u001b[0m \u001b[0;34m**\u001b[0m\u001b[0mkwargs\u001b[0m\u001b[0;34m)\u001b[0m\u001b[0;34m\u001b[0m\u001b[0m\n\u001b[0m\u001b[1;32m    908\u001b[0m         \u001b[0;32melse\u001b[0m\u001b[0;34m:\u001b[0m\u001b[0;34m\u001b[0m\u001b[0m\n\u001b[1;32m    909\u001b[0m             \u001b[0;32mreturn\u001b[0m \u001b[0mself\u001b[0m\u001b[0;34m.\u001b[0m\u001b[0m_init_call\u001b[0m\u001b[0;34m(\u001b[0m\u001b[0;34m*\u001b[0m\u001b[0margs\u001b[0m\u001b[0;34m,\u001b[0m \u001b[0;34m**\u001b[0m\u001b[0mkwargs\u001b[0m\u001b[0;34m)\u001b[0m\u001b[0;34m\u001b[0m\u001b[0m\n",
      "\u001b[0;32m~/miniconda3/lib/python3.6/site-packages/ipywidgets/widgets/widget_selection.py\u001b[0m in \u001b[0;36m_validate_value\u001b[0;34m(self, proposal)\u001b[0m\n\u001b[1;32m    232\u001b[0m             \u001b[0;32mreturn\u001b[0m \u001b[0mfindvalue\u001b[0m\u001b[0;34m(\u001b[0m\u001b[0mself\u001b[0m\u001b[0;34m.\u001b[0m\u001b[0m_options_values\u001b[0m\u001b[0;34m,\u001b[0m \u001b[0mvalue\u001b[0m\u001b[0;34m,\u001b[0m \u001b[0mself\u001b[0m\u001b[0;34m.\u001b[0m\u001b[0mequals\u001b[0m\u001b[0;34m)\u001b[0m \u001b[0;32mif\u001b[0m \u001b[0mvalue\u001b[0m \u001b[0;32mis\u001b[0m \u001b[0;32mnot\u001b[0m \u001b[0;32mNone\u001b[0m \u001b[0;32melse\u001b[0m \u001b[0;32mNone\u001b[0m\u001b[0;34m\u001b[0m\u001b[0m\n\u001b[1;32m    233\u001b[0m         \u001b[0;32mexcept\u001b[0m \u001b[0mValueError\u001b[0m\u001b[0;34m:\u001b[0m\u001b[0;34m\u001b[0m\u001b[0m\n\u001b[0;32m--> 234\u001b[0;31m             \u001b[0;32mraise\u001b[0m \u001b[0mTraitError\u001b[0m\u001b[0;34m(\u001b[0m\u001b[0;34m'Invalid selection: value not found'\u001b[0m\u001b[0;34m)\u001b[0m\u001b[0;34m\u001b[0m\u001b[0m\n\u001b[0m\u001b[1;32m    235\u001b[0m \u001b[0;34m\u001b[0m\u001b[0m\n\u001b[1;32m    236\u001b[0m     \u001b[0;34m@\u001b[0m\u001b[0mobserve\u001b[0m\u001b[0;34m(\u001b[0m\u001b[0;34m'value'\u001b[0m\u001b[0;34m)\u001b[0m\u001b[0;34m\u001b[0m\u001b[0m\n",
      "\u001b[0;31mTraitError\u001b[0m: Invalid selection: value not found"
     ]
    }
   ],
   "source": [
    "from ipywidgets import interact, interactive, fixed\n",
    "import ipywidgets as widgets\n",
    "\n",
    "def setlight(lightid='14', on=True, ct=128, bri=128):\n",
    "    bridge.lights[lightid].state(on=on)\n",
    "    if on:\n",
    "        bridge.lights[lightid].state(bri=bri, ct=ct)\n",
    "\n",
    "light_list = interact(setlight,\n",
    "                      lightid = widgets.Dropdown(\n",
    "                            options={ lights[i]['name']:i for i in lights },\n",
    "                            value='14',\n",
    "                            description='Light:',\n",
    "                        ),\n",
    "                      on = widgets.Checkbox(value=True, description='On/off'),\n",
    "                      bri = widgets.IntSlider(min=0,max=255,value=128, description='Bright:'),\n",
    "                      ct = widgets.IntSlider(min=0,max=255,value=128, description='Colour:'))"
   ]
  },
  {
   "cell_type": "markdown",
   "metadata": {},
   "source": [
    "The [YAML format](https://en.wikipedia.org/wiki/YAML) is a nice way to view the sometimes large amount of structured information which comes back from the bridge. \n",
    "\n",
    "If you haven't got the Python yaml module, `pip install PyYAML`."
   ]
  },
  {
   "cell_type": "code",
   "execution_count": 26,
   "metadata": {},
   "outputs": [
    {
     "name": "stdout",
     "output_type": "stream",
     "text": [
      "4 lights:\n",
      "\n",
      "'1':\n",
      "    capabilities:\n",
      "        certified: true\n",
      "        control:\n",
      "            colorgamut:\n",
      "            - [0.6915, 0.3083]\n",
      "            - [0.17, 0.7]\n",
      "            - [0.1532, 0.0475]\n",
      "            colorgamuttype: C\n",
      "            ct: {max: 500, min: 153}\n",
      "            maxlumen: 800\n",
      "            mindimlevel: 1000\n",
      "        streaming: {proxy: true, renderer: true}\n",
      "    config: {archetype: sultanbulb, direction: omnidirectional, function: mixed}\n",
      "    manufacturername: Philips\n",
      "    modelid: LCT014\n",
      "    name: Table\n",
      "    productid: Philips-LCT014-1-A19ECLv4\n",
      "    productname: Hue color lamp\n",
      "    state:\n",
      "        alert: none\n",
      "        bri: 198\n",
      "        colormode: hs\n",
      "        ct: 347\n",
      "        effect: none\n",
      "        hue: 57161\n",
      "        mode: homeautomation\n",
      "        'on': true\n",
      "        reachable: true\n",
      "        sat: 254\n",
      "        xy: [0.4469, 0.1898]\n",
      "    swconfigid: 3027B5DE\n",
      "    swupdate: {lastinstall: null, state: noupdates}\n",
      "    swversion: 1.29.0_r21169\n",
      "    type: Extended color light\n",
      "    uniqueid: 00:17:88:01:02:8e:a9:d2-0b\n",
      "'2':\n",
      "    capabilities:\n",
      "        certified: true\n",
      "        control:\n",
      "            colorgamut:\n",
      "            - [0.0, 0.0]\n",
      "            - [0.0, 0.0]\n",
      "            - [0.0, 0.0]\n",
      "            colorgamuttype: other\n",
      "            ct: {max: 500, min: 153}\n",
      "            maxlumen: 800\n",
      "            mindimlevel: 1000\n",
      "        streaming: {proxy: false, renderer: false}\n",
      "    config: {archetype: sultanbulb, direction: omnidirectional, function: mixed}\n",
      "    manufacturername: Philips\n",
      "    modelid: LCT014\n",
      "    name: Bar\n",
      "    productid: Philips-LCT014-1-A19ECLv4\n",
      "    productname: Hue color lamp\n",
      "    state:\n",
      "        alert: none\n",
      "        bri: 205\n",
      "        colormode: hs\n",
      "        ct: 153\n",
      "        effect: none\n",
      "        hue: 51517\n",
      "        mode: homeautomation\n",
      "        'on': true\n",
      "        reachable: true\n",
      "        sat: 254\n",
      "        xy: [0.2821, 0.11]\n",
      "    swconfigid: A315E69E\n",
      "    swupdate: {lastinstall: null, state: readytoinstall}\n",
      "    swversion: 1.15.2_r19181\n",
      "    type: Extended color light\n",
      "    uniqueid: 00:17:88:01:02:c8:ec:2d-0b\n",
      "'3':\n",
      "    capabilities:\n",
      "        certified: true\n",
      "        control:\n",
      "            colorgamut:\n",
      "            - [0.6915, 0.3083]\n",
      "            - [0.17, 0.7]\n",
      "            - [0.1532, 0.0475]\n",
      "            colorgamuttype: C\n",
      "            ct: {max: 500, min: 153}\n",
      "            maxlumen: 800\n",
      "            mindimlevel: 1000\n",
      "        streaming: {proxy: true, renderer: true}\n",
      "    config: {archetype: sultanbulb, direction: omnidirectional, function: mixed}\n",
      "    manufacturername: Philips\n",
      "    modelid: LCT014\n",
      "    name: Hue color lamp 3\n",
      "    productid: Philips-LCT014-1-A19ECLv4\n",
      "    productname: Hue color lamp\n",
      "    state:\n",
      "        alert: none\n",
      "        bri: 210\n",
      "        colormode: hs\n",
      "        ct: 500\n",
      "        effect: none\n",
      "        hue: 10012\n",
      "        mode: homeautomation\n",
      "        'on': true\n",
      "        reachable: false\n",
      "        sat: 254\n",
      "        xy: [0.3803, 0.2402]\n",
      "    swconfigid: 3027B5DE\n",
      "    swupdate: {lastinstall: null, state: noupdates}\n",
      "    swversion: 1.29.0_r21169\n",
      "    type: Extended color light\n",
      "    uniqueid: 00:17:88:01:02:dc:aa:6f-0b\n",
      "'4':\n",
      "    capabilities:\n",
      "        certified: true\n",
      "        control:\n",
      "            colorgamut:\n",
      "            - [0.0, 0.0]\n",
      "            - [0.0, 0.0]\n",
      "            - [0.0, 0.0]\n",
      "            colorgamuttype: other\n",
      "            ct: {max: 500, min: 153}\n",
      "            maxlumen: 800\n",
      "            mindimlevel: 1000\n",
      "        streaming: {proxy: false, renderer: false}\n",
      "    config: {archetype: sultanbulb, direction: omnidirectional, function: mixed}\n",
      "    manufacturername: Philips\n",
      "    modelid: LCT014\n",
      "    name: Hue color lamp 4\n",
      "    productid: Philips-LCT014-1-A19ECLv4\n",
      "    productname: Hue color lamp\n",
      "    state:\n",
      "        alert: none\n",
      "        bri: 226\n",
      "        colormode: hs\n",
      "        ct: 153\n",
      "        effect: none\n",
      "        hue: 19296\n",
      "        mode: homeautomation\n",
      "        'on': true\n",
      "        reachable: true\n",
      "        sat: 254\n",
      "        xy: [0.2984, 0.6035]\n",
      "    swconfigid: A315E69E\n",
      "    swupdate: {lastinstall: null, state: readytoinstall}\n",
      "    swversion: 1.15.2_r19181\n",
      "    type: Extended color light\n",
      "    uniqueid: 00:17:88:01:02:c9:84:a9-0b\n",
      "\n"
     ]
    }
   ],
   "source": [
    "import yaml\n",
    "print(\"{} lights:\\n\".format(len(lights)))\n",
    "print(yaml.safe_dump(lights, indent=4))"
   ]
  },
  {
   "cell_type": "code",
   "execution_count": 13,
   "metadata": {},
   "outputs": [
    {
     "name": "stdout",
     "output_type": "stream",
     "text": [
      "capabilities:\n",
      "    certified: true\n",
      "    control:\n",
      "        colorgamut:\n",
      "        - [0.6915, 0.3083]\n",
      "        - [0.17, 0.7]\n",
      "        - [0.1532, 0.0475]\n",
      "        colorgamuttype: C\n",
      "        ct: {max: 500, min: 153}\n",
      "        maxlumen: 800\n",
      "        mindimlevel: 1000\n",
      "    streaming: {proxy: true, renderer: true}\n",
      "config: {archetype: sultanbulb, direction: omnidirectional, function: mixed}\n",
      "manufacturername: Philips\n",
      "modelid: LCT014\n",
      "name: Hue color lamp 3\n",
      "productid: Philips-LCT014-1-A19ECLv4\n",
      "productname: Hue color lamp\n",
      "state:\n",
      "    alert: none\n",
      "    bri: 210\n",
      "    colormode: hs\n",
      "    ct: 500\n",
      "    effect: none\n",
      "    hue: 10012\n",
      "    mode: homeautomation\n",
      "    'on': true\n",
      "    reachable: false\n",
      "    sat: 254\n",
      "    xy: [0.3803, 0.2402]\n",
      "swconfigid: 3027B5DE\n",
      "swupdate: {lastinstall: null, state: noupdates}\n",
      "swversion: 1.29.0_r21169\n",
      "type: Extended color light\n",
      "uniqueid: 00:17:88:01:02:dc:aa:6f-0b\n",
      "\n"
     ]
    }
   ],
   "source": [
    "print(yaml.safe_dump(bridge.lights['3'](), indent=4))"
   ]
  },
  {
   "cell_type": "markdown",
   "metadata": {},
   "source": [
    "## Scenes "
   ]
  },
  {
   "cell_type": "markdown",
   "metadata": {},
   "source": [
    "Let's look at the scenes defined in the bridge, and their IDs.  Some of these may be created manually, and others by the Hue app or other software.\n",
    "\n",
    "Version 1-type scenes just refer to the lights - each light is told: \"Set the value you have stored for this scene\".\n",
    "\n",
    "Version 2 scenes have more details stored in the hub, which is generally more useful."
   ]
  },
  {
   "cell_type": "code",
   "execution_count": 14,
   "metadata": {},
   "outputs": [
    {
     "name": "stdout",
     "output_type": "stream",
     "text": [
      "15 scenes:\n",
      "\n",
      "-rhq90wNuLwkZd1:\n",
      "    appdata: {data: v46L0_r01_d01, version: 1}\n",
      "    lastupdated: '2018-08-17T02:05:01'\n",
      "    lights: ['1', '2', '3', '4']\n",
      "    locked: false\n",
      "    name: Relax\n",
      "    owner: 8Oe9SokBWRkm8MzD1Qozv9rN90LB6Q2e-b0wW62e\n",
      "    picture: ''\n",
      "    recycle: false\n",
      "    version: 2\n",
      "8GQMEfegZ55UCvU:\n",
      "    appdata: {data: fF3By_r01_d17, version: 1}\n",
      "    lastupdated: '2018-08-17T02:05:01'\n",
      "    lights: ['1', '2', '3', '4']\n",
      "    locked: false\n",
      "    name: Arctic aurora\n",
      "    owner: 8Oe9SokBWRkm8MzD1Qozv9rN90LB6Q2e-b0wW62e\n",
      "    picture: ''\n",
      "    recycle: false\n",
      "    version: 2\n",
      "A8gNrfpotn991uv:\n",
      "    appdata: {data: 4GDwe_r01_d16, version: 1}\n",
      "    lastupdated: '2018-08-17T02:05:01'\n",
      "    lights: ['1', '2', '3', '4']\n",
      "    locked: false\n",
      "    name: Tropical twilight\n",
      "    owner: 8Oe9SokBWRkm8MzD1Qozv9rN90LB6Q2e-b0wW62e\n",
      "    picture: ''\n",
      "    recycle: false\n",
      "    version: 2\n",
      "Dr8VReLcesoErd3:\n",
      "    appdata: {data: NLpwm_r01, version: 1}\n",
      "    lastupdated: '2018-08-17T03:11:42'\n",
      "    lights: ['1', '2', '3', '4']\n",
      "    locked: false\n",
      "    name: reddddd\n",
      "    owner: 8Oe9SokBWRkm8MzD1Qozv9rN90LB6Q2e-b0wW62e\n",
      "    picture: ''\n",
      "    recycle: false\n",
      "    version: 2\n",
      "NReux9VZOyzFaAu:\n",
      "    appdata: {data: VF5N7_r01_d18, version: 1}\n",
      "    lastupdated: '2018-08-17T02:05:01'\n",
      "    lights: ['1', '2', '3', '4']\n",
      "    locked: false\n",
      "    name: Spring blossom\n",
      "    owner: 8Oe9SokBWRkm8MzD1Qozv9rN90LB6Q2e-b0wW62e\n",
      "    picture: ''\n",
      "    recycle: false\n",
      "    version: 2\n",
      "OXdeD99gLDVu-cz:\n",
      "    appdata: {data: i0mWj_r01_d04, version: 1}\n",
      "    lastupdated: '2018-08-17T02:05:01'\n",
      "    lights: ['1', '2', '3', '4']\n",
      "    locked: false\n",
      "    name: Energize\n",
      "    owner: 8Oe9SokBWRkm8MzD1Qozv9rN90LB6Q2e-b0wW62e\n",
      "    picture: ''\n",
      "    recycle: false\n",
      "    version: 2\n",
      "V5kxfCLxq4QOzk7:\n",
      "    appdata: {data: suP10_r01_d03, version: 1}\n",
      "    lastupdated: '2018-08-17T02:05:01'\n",
      "    lights: ['1', '2', '3', '4']\n",
      "    locked: false\n",
      "    name: Concentrate\n",
      "    owner: 8Oe9SokBWRkm8MzD1Qozv9rN90LB6Q2e-b0wW62e\n",
      "    picture: ''\n",
      "    recycle: false\n",
      "    version: 2\n",
      "WMZRUY0gBLR1IS6:\n",
      "    appdata: {data: WIkVX_r01, version: 1}\n",
      "    lastupdated: '2018-09-12T01:58:31'\n",
      "    lights: ['1', '2', '3', '4']\n",
      "    locked: false\n",
      "    name: one\n",
      "    owner: 8Oe9SokBWRkm8MzD1Qozv9rN90LB6Q2e-b0wW62e\n",
      "    picture: ''\n",
      "    recycle: false\n",
      "    version: 2\n",
      "WbeJQG4kz9n9R4x:\n",
      "    appdata: {data: QT1Go_r01_d02, version: 1}\n",
      "    lastupdated: '2018-08-17T02:05:01'\n",
      "    lights: ['1', '2', '3', '4']\n",
      "    locked: false\n",
      "    name: Read\n",
      "    owner: 8Oe9SokBWRkm8MzD1Qozv9rN90LB6Q2e-b0wW62e\n",
      "    picture: ''\n",
      "    recycle: false\n",
      "    version: 2\n",
      "fHk8JsLIQi3OaAA:\n",
      "    appdata: {data: eKI8N_r01_d05, version: 1}\n",
      "    lastupdated: '2018-08-17T02:05:01'\n",
      "    lights: ['1', '2', '3', '4']\n",
      "    locked: false\n",
      "    name: Bright\n",
      "    owner: 8Oe9SokBWRkm8MzD1Qozv9rN90LB6Q2e-b0wW62e\n",
      "    picture: ''\n",
      "    recycle: false\n",
      "    version: 2\n",
      "hhi8LigspsSOwDn:\n",
      "    appdata: {data: T6Jlq_r01_d07, version: 1}\n",
      "    lastupdated: '2018-08-17T02:05:02'\n",
      "    lights: ['1', '2', '3', '4']\n",
      "    locked: false\n",
      "    name: Nightlight\n",
      "    owner: 8Oe9SokBWRkm8MzD1Qozv9rN90LB6Q2e-b0wW62e\n",
      "    picture: ''\n",
      "    recycle: false\n",
      "    version: 2\n",
      "jgxkUGd0oUXENhV:\n",
      "    appdata: {data: nYL4v_r01_d15, version: 1}\n",
      "    lastupdated: '2018-08-17T02:05:00'\n",
      "    lights: ['1', '2', '3', '4']\n",
      "    locked: false\n",
      "    name: Savanna sunset\n",
      "    owner: 8Oe9SokBWRkm8MzD1Qozv9rN90LB6Q2e-b0wW62e\n",
      "    picture: ''\n",
      "    recycle: false\n",
      "    version: 2\n",
      "vr9dW6ffS0bh4x1:\n",
      "    appdata: {data: zOD8v_r01_d06, version: 1}\n",
      "    lastupdated: '2018-08-17T02:05:01'\n",
      "    lights: ['1', '2', '3', '4']\n",
      "    locked: false\n",
      "    name: Dimmed\n",
      "    owner: 8Oe9SokBWRkm8MzD1Qozv9rN90LB6Q2e-b0wW62e\n",
      "    picture: ''\n",
      "    recycle: false\n",
      "    version: 2\n",
      "xtUkEwmS7Jf9oq1:\n",
      "    appdata: {data: tTGXN_r01, version: 1}\n",
      "    lastupdated: '2018-08-19T01:38:59'\n",
      "    lights: ['1', '2', '3', '4']\n",
      "    locked: false\n",
      "    name: bog\n",
      "    owner: 8Oe9SokBWRkm8MzD1Qozv9rN90LB6Q2e-b0wW62e\n",
      "    picture: ''\n",
      "    recycle: false\n",
      "    version: 2\n",
      "yknpqozzLu3MvOu:\n",
      "    appdata: {data: 2yUtU_r01, version: 1}\n",
      "    lastupdated: '2018-08-20T02:33:47'\n",
      "    lights: ['1', '2', '3', '4']\n",
      "    locked: false\n",
      "    name: blorange\n",
      "    owner: 8hAk9tEmZjtB1fLovkVBRDGja3oy2K9viaJXvbhi\n",
      "    picture: ''\n",
      "    recycle: false\n",
      "    version: 2\n",
      "\n"
     ]
    }
   ],
   "source": [
    "scenes = bridge.scenes()\n",
    "print(\"{} scenes:\\n\".format(len(scenes)))\n",
    "print(yaml.safe_dump(scenes, indent=4))"
   ]
  },
  {
   "cell_type": "markdown",
   "metadata": {},
   "source": [
    "Details of a particular scene from the list:"
   ]
  },
  {
   "cell_type": "code",
   "execution_count": 27,
   "metadata": {},
   "outputs": [
    {
     "name": "stdout",
     "output_type": "stream",
     "text": [
      "appdata: {data: fF3By_r01_d17, version: 1}\n",
      "lastupdated: '2018-08-17T02:05:01'\n",
      "lights: ['1', '2', '3', '4']\n",
      "lightstates:\n",
      "  '1':\n",
      "    bri: 137\n",
      "    'on': true\n",
      "    xy: [0.139, 0.081]\n",
      "  '2':\n",
      "    bri: 137\n",
      "    'on': true\n",
      "    xy: [0.1715, 0.3528]\n",
      "  '3':\n",
      "    bri: 137\n",
      "    'on': true\n",
      "    xy: [0.1712, 0.2155]\n",
      "  '4':\n",
      "    bri: 137\n",
      "    'on': true\n",
      "    xy: [0.139, 0.081]\n",
      "locked: false\n",
      "name: Arctic aurora\n",
      "owner: 8Oe9SokBWRkm8MzD1Qozv9rN90LB6Q2e-b0wW62e\n",
      "picture: ''\n",
      "recycle: false\n",
      "version: 2\n",
      "\n"
     ]
    }
   ],
   "source": [
    "print(yaml.safe_dump(bridge.scenes['8GQMEfegZ55UCvU']()))"
   ]
  },
  {
   "cell_type": "markdown",
   "metadata": {},
   "source": [
    "Let's list scenes with IDs, last updated time, and the lights affected:"
   ]
  },
  {
   "cell_type": "code",
   "execution_count": 28,
   "metadata": {},
   "outputs": [
    {
     "name": "stdout",
     "output_type": "stream",
     "text": [
      "\n",
      "jgxkUGd0oUXENhV  Savanna sunset       2018-08-17T02:05:00\n",
      "                                        - Table\n",
      "                                        - Bar\n",
      "                                        - Hue color lamp 3\n",
      "                                        - Hue color lamp 4\n",
      "\n",
      "A8gNrfpotn991uv  Tropical twilight    2018-08-17T02:05:01\n",
      "                                        - Table\n",
      "                                        - Bar\n",
      "                                        - Hue color lamp 3\n",
      "                                        - Hue color lamp 4\n",
      "\n",
      "8GQMEfegZ55UCvU  Arctic aurora        2018-08-17T02:05:01\n",
      "                                        - Table\n",
      "                                        - Bar\n",
      "                                        - Hue color lamp 3\n",
      "                                        - Hue color lamp 4\n",
      "\n",
      "NReux9VZOyzFaAu  Spring blossom       2018-08-17T02:05:01\n",
      "                                        - Table\n",
      "                                        - Bar\n",
      "                                        - Hue color lamp 3\n",
      "                                        - Hue color lamp 4\n",
      "\n",
      "-rhq90wNuLwkZd1  Relax                2018-08-17T02:05:01\n",
      "                                        - Table\n",
      "                                        - Bar\n",
      "                                        - Hue color lamp 3\n",
      "                                        - Hue color lamp 4\n",
      "\n",
      "WbeJQG4kz9n9R4x  Read                 2018-08-17T02:05:01\n",
      "                                        - Table\n",
      "                                        - Bar\n",
      "                                        - Hue color lamp 3\n",
      "                                        - Hue color lamp 4\n",
      "\n",
      "V5kxfCLxq4QOzk7  Concentrate          2018-08-17T02:05:01\n",
      "                                        - Table\n",
      "                                        - Bar\n",
      "                                        - Hue color lamp 3\n",
      "                                        - Hue color lamp 4\n",
      "\n",
      "OXdeD99gLDVu-cz  Energize             2018-08-17T02:05:01\n",
      "                                        - Table\n",
      "                                        - Bar\n",
      "                                        - Hue color lamp 3\n",
      "                                        - Hue color lamp 4\n",
      "\n",
      "fHk8JsLIQi3OaAA  Bright               2018-08-17T02:05:01\n",
      "                                        - Table\n",
      "                                        - Bar\n",
      "                                        - Hue color lamp 3\n",
      "                                        - Hue color lamp 4\n",
      "\n",
      "vr9dW6ffS0bh4x1  Dimmed               2018-08-17T02:05:01\n",
      "                                        - Table\n",
      "                                        - Bar\n",
      "                                        - Hue color lamp 3\n",
      "                                        - Hue color lamp 4\n",
      "\n",
      "hhi8LigspsSOwDn  Nightlight           2018-08-17T02:05:02\n",
      "                                        - Table\n",
      "                                        - Bar\n",
      "                                        - Hue color lamp 3\n",
      "                                        - Hue color lamp 4\n",
      "\n",
      "Dr8VReLcesoErd3  reddddd              2018-08-17T03:11:42\n",
      "                                        - Table\n",
      "                                        - Bar\n",
      "                                        - Hue color lamp 3\n",
      "                                        - Hue color lamp 4\n",
      "\n",
      "xtUkEwmS7Jf9oq1  bog                  2018-08-19T01:38:59\n",
      "                                        - Table\n",
      "                                        - Bar\n",
      "                                        - Hue color lamp 3\n",
      "                                        - Hue color lamp 4\n",
      "\n",
      "yknpqozzLu3MvOu  blorange             2018-08-20T02:33:47\n",
      "                                        - Table\n",
      "                                        - Bar\n",
      "                                        - Hue color lamp 3\n",
      "                                        - Hue color lamp 4\n",
      "\n",
      "WMZRUY0gBLR1IS6  one                  2018-09-12T01:58:31\n",
      "                                        - Table\n",
      "                                        - Bar\n",
      "                                        - Hue color lamp 3\n",
      "                                        - Hue color lamp 4\n"
     ]
    }
   ],
   "source": [
    "for sid, info in scenes.items():\n",
    "    print(\"\\n{:16} {:20} {}\".format( sid, info['name'], info['lastupdated']))\n",
    "    for li in info['lights']:\n",
    "        print(\"{:40}- {}\".format('', lights[li]['name']))"
   ]
  },
  {
   "cell_type": "markdown",
   "metadata": {},
   "source": [
    "Tidying things up; let's delete a scene:"
   ]
  },
  {
   "cell_type": "code",
   "execution_count": 62,
   "metadata": {},
   "outputs": [],
   "source": [
    "# Uncomment and edit this if you actually want to run it!\n",
    "# print(bridge.scenes['cd06c70f7-on-0'](http_method='delete'))"
   ]
  },
  {
   "cell_type": "markdown",
   "metadata": {},
   "source": [
    "Show the details of the scenes that affect a particular light:"
   ]
  },
  {
   "cell_type": "code",
   "execution_count": 63,
   "metadata": {},
   "outputs": [
    {
     "name": "stdout",
     "output_type": "stream",
     "text": [
      "Light 21 - Sitting room 1\n",
      "SePln7Lt9-H7Hm7 : Bright               2017-02-01T09:52:06\n",
      "VaknVPkUZnSrdiB : Bright               2017-02-01T07:54:30\n",
      "3owQUn01W7nVsxR : Evening              2017-02-01T07:54:29\n",
      "GYOWpf6lHjaVc3T : Off                  2016-09-13T21:11:19\n",
      "wG25IXpcHHTim4g : Off                  2017-02-01T07:54:30\n",
      "SUThT3XiV7sSzml : Warm                 2017-02-01T07:54:30\n",
      "KZNM2DZmdcydRIc : All warm             2016-08-06T23:50:55\n",
      "IB57U3scrj4cQWk : Read                 2017-02-01T07:54:29\n",
      "wVXtOrFmdnySqUz : Dimmed               2017-02-01T07:54:30\n",
      "YDfVlYFWoaL6yv5 : Nightlight           2017-02-01T07:54:29\n"
     ]
    }
   ],
   "source": [
    "lightname = 'Sitting room 1'\n",
    "# How's this for a nice use of python iterators?\n",
    "light_id = next(i for i,info in lights.items() if info['name'] == lightname)\n",
    "print(\"Light {} - {}\".format(light_id, lightname))\n",
    "for line in [\"{} : {:20} {}\".format(sid, info['name'], info['lastupdated']) for sid, info in scenes.items() if light_id in info['lights']]:\n",
    "    print(line)"
   ]
  },
  {
   "cell_type": "markdown",
   "metadata": {},
   "source": [
    "## Groups and rooms"
   ]
  },
  {
   "cell_type": "markdown",
   "metadata": {},
   "source": [
    "Let's look at groups:"
   ]
  },
  {
   "cell_type": "code",
   "execution_count": 64,
   "metadata": {},
   "outputs": [
    {
     "name": "stdout",
     "output_type": "stream",
     "text": [
      "'1':\n",
      "    action:\n",
      "        alert: none\n",
      "        bri: 240\n",
      "        colormode: xy\n",
      "        ct: 343\n",
      "        effect: none\n",
      "        hue: 15360\n",
      "        'on': false\n",
      "        sat: 119\n",
      "        xy: [0.4436, 0.4062]\n",
      "    lights: ['3', '6']\n",
      "    name: Kitchen\n",
      "    recycle: false\n",
      "    state: {all_on: false, any_on: false}\n",
      "    type: LightGroup\n",
      "'2':\n",
      "    action:\n",
      "        alert: none\n",
      "        bri: 126\n",
      "        colormode: xy\n",
      "        ct: 267\n",
      "        effect: none\n",
      "        hue: 16528\n",
      "        'on': false\n",
      "        sat: 29\n",
      "        xy: [0.3944, 0.385]\n",
      "    lights: ['7', '8']\n",
      "    name: Hall\n",
      "    recycle: false\n",
      "    state: {all_on: false, any_on: false}\n",
      "    type: LightGroup\n",
      "'3':\n",
      "    action:\n",
      "        alert: none\n",
      "        bri: 240\n",
      "        colormode: xy\n",
      "        ct: 343\n",
      "        effect: none\n",
      "        hue: 15360\n",
      "        'on': false\n",
      "        sat: 119\n",
      "        xy: [0.4436, 0.4062]\n",
      "    lights: ['12', '11', '6', '3']\n",
      "    name: Dimmer 11\n",
      "    recycle: false\n",
      "    state: {all_on: false, any_on: false}\n",
      "    type: LightGroup\n",
      "...\n",
      "\n"
     ]
    }
   ],
   "source": [
    "print(yaml.safe_dump(bridge.groups(), indent=4))"
   ]
  },
  {
   "cell_type": "markdown",
   "metadata": {},
   "source": [
    "The current Hue software creates 'rooms', which are groups with a type value set to Room:"
   ]
  },
  {
   "cell_type": "code",
   "execution_count": 65,
   "metadata": {},
   "outputs": [
    {
     "name": "stdout",
     "output_type": "stream",
     "text": [
      "4   : Kitchen\n",
      "5   : Garden\n",
      "6   : Sitting room\n",
      "7   : Hall\n",
      "8   : Landing\n",
      "9   : Bedroom\n"
     ]
    }
   ],
   "source": [
    "groups = bridge.groups()\n",
    "rooms = [(gid, info['name']) for gid, info in groups.items() if info.get('type') == 'Room' ]\n",
    "for room_id, info in rooms:\n",
    "    print(\"{:3} : {}\".format(room_id, info))"
   ]
  },
  {
   "cell_type": "markdown",
   "metadata": {},
   "source": [
    "## Sensors"
   ]
  },
  {
   "cell_type": "markdown",
   "metadata": {},
   "source": [
    "Sensors are mostly switches, but a few other things come under the same category in the bridge.  There's a 'daylight' sensor, implemented in software, for example, and various bits of state can also be stored here so they can be used in rule conditions later."
   ]
  },
  {
   "cell_type": "code",
   "execution_count": 66,
   "metadata": {},
   "outputs": [
    {
     "name": "stdout",
     "output_type": "stream",
     "text": [
      "Bedroom tap                      7 ZGPSwitch\n",
      "Daylight                         1 Daylight\n",
      "Dimmer Switch 11 SceneCycle     14 CLIPGenericStatus\n",
      "Dimmer Switch 12 SceneCycle     13 CLIPGenericStatus\n",
      "Dining Room                      9 ZGPSwitch\n",
      "Hall                             8 ZGPSwitch\n",
      "Hall dimmer                     12 ZLLSwitch\n",
      "Hall sensor                     24 ZLLPresence\n",
      "Hue ambient light sensor 1      17 ZLLLightLevel\n",
      "Hue ambient light sensor 2      21 ZLLLightLevel\n",
      "Hue ambient light sensor 3      25 ZLLLightLevel\n",
      "Hue ambient light sensor 4      29 ZLLLightLevel\n",
      "Hue temperature sensor 1        15 ZLLTemperature\n",
      "Hue temperature sensor 2        19 ZLLTemperature\n",
      "Hue temperature sensor 3        23 ZLLTemperature\n",
      "Hue temperature sensor 4        27 ZLLTemperature\n",
      "Kitchen dimmer                  11 ZLLSwitch\n",
      "Kitchen tap                      2 ZGPSwitch\n",
      "Landing sensor                  16 ZLLPresence\n",
      "Landing tap                      3 ZGPSwitch\n",
      "Laundry sensor                  28 ZLLPresence\n",
      "Laundry tap                      4 ZGPSwitch\n",
      "MotionSensor 16.Companion       35 CLIPGenericStatus\n",
      "MotionSensor 20.Companion       22 CLIPGenericStatus\n",
      "MotionSensor 24.Companion       26 CLIPGenericStatus\n",
      "MotionSensor 28.Companion       36 CLIPGenericStatus\n",
      "Sitting room                    10 ZGPSwitch\n",
      "Top Landing sensor              20 ZLLPresence\n",
      "Top Tap                          6 ZGPSwitch\n",
      "XFDani[4][1]sn:step             32 CLIPGenericStatus\n",
      "XFDani[4]sn:state               31 CLIPGenericStatus\n"
     ]
    }
   ],
   "source": [
    "sensors = bridge.sensors()\n",
    "summary = [(info['name'], i, info['type']) for i,info in sensors.items()]\n",
    "# Sort by name\n",
    "# Python 2: summary.sort(lambda a,b: cmp(a[0], b[0]))\n",
    "# Python 3:\n",
    "summary.sort(key = lambda a: a[0])\n",
    "for n,i,t in summary:\n",
    "    print(\"{:30} {:>3} {}\".format(n,i,t))\n",
    "    #print(bridge.sensors[i]())\n",
    "    "
   ]
  },
  {
   "cell_type": "markdown",
   "metadata": {},
   "source": [
    "Here's a more complete list:"
   ]
  },
  {
   "cell_type": "code",
   "execution_count": 67,
   "metadata": {},
   "outputs": [
    {
     "name": "stdout",
     "output_type": "stream",
     "text": [
      "'1':\n",
      "    config: {configured: false, 'on': true, sunriseoffset: 30, sunsetoffset: -30}\n",
      "    manufacturername: Philips\n",
      "    modelid: PHDL00\n",
      "    name: Daylight\n",
      "    state: {daylight: null, lastupdated: none}\n",
      "    swversion: '1.0'\n",
      "    type: Daylight\n",
      "'10':\n",
      "    config: {'on': true}\n",
      "    manufacturername: Philips\n",
      "    modelid: ZGPSWITCH\n",
      "    name: Sitting room\n",
      "    state: {buttonevent: 34, lastupdated: '2017-07-04T22:03:46'}\n",
      "    swupdate: {lastinstall: null, state: notupdatable}\n",
      "    type: ZGPSwitch\n",
      "    uniqueid: 00:00:00:00:00:41:1f:34-f2\n",
      "'11':\n",
      "    config:\n",
      "        battery: 84\n",
      "        'on': true\n",
      "        pending: []\n",
      "        reachable: true\n",
      "    manufacturername: Philips\n",
      "    modelid: RWL021\n",
      "    name: Kitchen dimmer\n",
      "    state: {buttonevent: 4002, lastupdated: '2017-07-04T09:42:08'}\n",
      "    swupdate: {lastinstall: null, state: noupdates}\n",
      "    swversion: 5.45.1.17846\n",
      "    type: ZLLSwitch\n",
      "    uniqueid: 00:17:88:01:10:33:28:66-02-fc00\n",
      "...\n",
      "\n"
     ]
    }
   ],
   "source": [
    "print(yaml.safe_dump(bridge.sensors(), indent=4))"
   ]
  },
  {
   "cell_type": "markdown",
   "metadata": {},
   "source": [
    "## Rules\n",
    "\n",
    "Rules map sensor events etc. to actions.\n"
   ]
  },
  {
   "cell_type": "code",
   "execution_count": 68,
   "metadata": {},
   "outputs": [
    {
     "name": "stdout",
     "output_type": "stream",
     "text": [
      "'1':\n",
      "    actions:\n",
      "    -   address: /groups/4/action\n",
      "        body: {scene: HfANai28yTRy07O}\n",
      "        method: PUT\n",
      "    conditions:\n",
      "    - {address: /sensors/2/state/lastupdated, operator: dx}\n",
      "    - {address: /sensors/2/state/buttonevent, operator: eq, value: '18'}\n",
      "    created: '2016-09-23T09:10:49'\n",
      "    lasttriggered: '2017-07-04T20:50:01'\n",
      "    name: Tap 2.4\n",
      "    owner: IneFZ4CIEdSQQN4oCGExhsi0cWquxMrZY6tEElKM\n",
      "    recycle: false\n",
      "    status: enabled\n",
      "    timestriggered: 3\n",
      "'10':\n",
      "    actions:\n",
      "    -   address: /groups/8/action\n",
      "        body: {scene: zvuMOXo8vmShFZK}\n",
      "        method: PUT\n",
      "    conditions:\n",
      "    - {address: /sensors/4/state/lastupdated, operator: dx}\n",
      "    - {address: /sensors/4/state/buttonevent, operator: eq, value: '18'}\n",
      "    created: '2016-07-23T11:48:50'\n",
      "    lasttriggered: none\n",
      "    name: Tap 4.4\n",
      "    owner: IneFZ4CIEdSQQN4oCGExhsi0cWquxMrZY6tEElKM\n",
      "    recycle: false\n",
      "    status: enabled\n",
      "    timestriggered: 0\n",
      "...\n",
      "\n"
     ]
    }
   ],
   "source": [
    "rules = bridge.rules()\n",
    "print(yaml.safe_dump(rules, indent=4))\n"
   ]
  },
  {
   "cell_type": "markdown",
   "metadata": {},
   "source": [
    "Show the rules triggered by the Sitting Room switch.\n",
    "\n",
    "For Tap switches, buttons 1,2,3,4 are represented by the values 34,16,17,18 respectively."
   ]
  },
  {
   "cell_type": "code",
   "execution_count": 69,
   "metadata": {},
   "outputs": [
    {
     "name": "stdout",
     "output_type": "stream",
     "text": [
      "Switch 10 -- Sitting room\n",
      "\n",
      "29  Tap 10.3            \n",
      "   ? condition {'address': '/sensors/10/state/lastupdated', 'operator': 'dx'}\n",
      "   ? condition {'address': '/sensors/10/state/buttonevent', 'operator': 'eq', 'value': '17'}\n",
      "   - action address /groups/6/action body {'scene': 'SUThT3XiV7sSzml'}  Warm \n",
      "30  Tap 10.2            \n",
      "   ? condition {'address': '/sensors/10/state/lastupdated', 'operator': 'dx'}\n",
      "   ? condition {'address': '/sensors/10/state/buttonevent', 'operator': 'eq', 'value': '16'}\n",
      "   - action address /groups/6/action body {'scene': 'SePln7Lt9-H7Hm7'}  Bright \n",
      "31  Tap 10.4            \n",
      "   ? condition {'address': '/sensors/10/state/lastupdated', 'operator': 'dx'}\n",
      "   ? condition {'address': '/sensors/10/state/buttonevent', 'operator': 'eq', 'value': '18'}\n",
      "   - action address /groups/6/action body {'scene': '3owQUn01W7nVsxR'}  Evening \n",
      "32  2:huelabs/tap-toggle\n",
      "   ? condition {'address': '/sensors/10/state/buttonevent', 'operator': 'eq', 'value': '34'}\n",
      "   ? condition {'address': '/sensors/10/state/lastupdated', 'operator': 'dx'}\n",
      "   ? condition {'address': '/groups/6/state/any_on', 'operator': 'eq', 'value': 'false'}\n",
      "   - action address /groups/6/action body {'on': True}                   \n",
      "98  2:huelabs/tap-toggle\n",
      "   ? condition {'address': '/sensors/10/state/buttonevent', 'operator': 'eq', 'value': '34'}\n",
      "   ? condition {'address': '/sensors/10/state/lastupdated', 'operator': 'dx'}\n",
      "   ? condition {'address': '/groups/6/state/any_on', 'operator': 'eq', 'value': 'true'}\n",
      "   - action address /groups/6/action body {'on': False}                  \n"
     ]
    }
   ],
   "source": [
    "switch = '10'  # sitting room\n",
    "print(\"Switch {} -- {}\\n\".format(switch, sensors[switch]['name']))\n",
    "\n",
    "# State changes on the switch will look like this:\n",
    "state_string = \"/sensors/{}/state/\".format(switch)\n",
    "\n",
    "# Look through the rules for once which contain this \n",
    "# string in their conditions:\n",
    "for rid, info in rules.items():\n",
    "    this_switch = False\n",
    "    matching_conditions = [c for c in info['conditions'] if state_string in c['address']]\n",
    "    if len(matching_conditions) > 0:\n",
    "        print(\"{:3} {:20}\".format(rid, info['name']))\n",
    "        for c in info['conditions']:\n",
    "            print(\"   ? condition {}\".format(c))\n",
    "        for a in info['actions']:\n",
    "\n",
    "            # If the action involves applying a scene, get its name\n",
    "            scene_name = \"\"\n",
    "            if 'scene' in a['body']:\n",
    "                scene_name = scenes[a['body']['scene']]['name']\n",
    "            \n",
    "            print(\"   - action address {} body {!s:29s} {} \".format( a['address'], a['body'], scene_name))\n",
    "            "
   ]
  },
  {
   "cell_type": "markdown",
   "metadata": {},
   "source": [
    "Let's see what is actually done by one of these scenes:"
   ]
  },
  {
   "cell_type": "code",
   "execution_count": 70,
   "metadata": {},
   "outputs": [
    {
     "name": "stdout",
     "output_type": "stream",
     "text": [
      "appdata: {data: mdVDQ_r06_d99, version: 1}\n",
      "lastupdated: '2017-02-01T07:54:29'\n",
      "lights: ['14', '21', '32', '33']\n",
      "lightstates:\n",
      "    '14':\n",
      "        bri: 189\n",
      "        'on': true\n",
      "        xy: [0.5102, 0.3642]\n",
      "    '21': {bri: 189, 'on': true}\n",
      "    '32': {bri: 189, 'on': true}\n",
      "    '33': {bri: 189, 'on': true}\n",
      "locked: true\n",
      "name: Evening\n",
      "owner: IneFZ4CIEdSQQN4oCGExhsi0cWquxMrZY6tEElKM\n",
      "picture: ''\n",
      "recycle: false\n",
      "version: 2\n",
      "\n"
     ]
    }
   ],
   "source": [
    "scene='3owQUn01W7nVsxR' # 'Evening' scene button 10.4\n",
    "\n",
    "s = bridge.scenes[scene]()\n",
    "print(yaml.safe_dump(s, indent=4))"
   ]
  },
  {
   "cell_type": "code",
   "execution_count": null,
   "metadata": {
    "collapsed": true
   },
   "outputs": [],
   "source": []
  }
 ],
 "metadata": {
  "kernelspec": {
   "display_name": "Python 3",
   "language": "python",
   "name": "python3"
  },
  "language_info": {
   "codemirror_mode": {
    "name": "ipython",
    "version": 3
   },
   "file_extension": ".py",
   "mimetype": "text/x-python",
   "name": "python",
   "nbconvert_exporter": "python",
   "pygments_lexer": "ipython3",
   "version": "3.6.2"
  },
  "widgets": {
   "state": {
    "f74b2b4846a447e5af1d44678ee8b297": {
     "views": [
      {
       "cell_index": 7
      }
     ]
    }
   },
   "version": "1.2.0"
  }
 },
 "nbformat": 4,
 "nbformat_minor": 1
}
